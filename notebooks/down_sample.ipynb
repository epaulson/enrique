{
 "cells": [
  {
   "cell_type": "code",
   "execution_count": 1,
   "metadata": {
    "collapsed": true
   },
   "outputs": [],
   "source": [
    "import sys\n"
   ]
  },
  {
   "cell_type": "code",
   "execution_count": 2,
   "metadata": {
    "collapsed": true
   },
   "outputs": [],
   "source": [
    "sys.path.append('/Users/pradap/Documents/Research/Python-Package/enrique/')"
   ]
  },
  {
   "cell_type": "code",
   "execution_count": 3,
   "metadata": {
    "collapsed": false
   },
   "outputs": [
    {
     "name": "stderr",
     "output_type": "stream",
     "text": [
      "DEBUG:Cloud:Log file (/Users/pradap/.picloud/cloud.log) opened\n",
      "DEBUG:Cloud:Deleting 1068.lock (54.097449915 days old)\n",
      "DEBUG:Cloud:Deleting 1068.log (54.097449915 days old)\n",
      "DEBUG:Cloud:Deleting 1144.lock (54.0950425076 days old)\n",
      "DEBUG:Cloud:Deleting 1144.log (54.0950425076 days old)\n",
      "DEBUG:Cloud:Deleting 1170.lock (57.9463851002 days old)\n",
      "DEBUG:Cloud:Deleting 1170.log (57.9463851002 days old)\n",
      "DEBUG:Cloud:Deleting 1230.lock (54.0811536188 days old)\n",
      "DEBUG:Cloud:Deleting 1230.log (54.0811536188 days old)\n",
      "DEBUG:Cloud:Deleting 1286.lock (54.0771605632 days old)\n",
      "DEBUG:Cloud:Deleting 1286.log (54.0771605632 days old)\n",
      "DEBUG:Cloud:Deleting 1331.lock (54.0769638039 days old)\n",
      "DEBUG:Cloud:Deleting 1331.log (54.0769638039 days old)\n",
      "DEBUG:Cloud:Deleting 1384.lock (54.0754244521 days old)\n",
      "DEBUG:Cloud:Deleting 1384.log (54.0754244521 days old)\n",
      "DEBUG:Cloud:Deleting 1458.lock (54.0693480632 days old)\n",
      "DEBUG:Cloud:Deleting 1458.log (54.0693480632 days old)\n",
      "DEBUG:Cloud:Deleting 1861.lock (53.9231906558 days old)\n",
      "DEBUG:Cloud:Deleting 1861.log (53.9231906558 days old)\n",
      "DEBUG:Cloud:Deleting 1918.lock (53.9197531558 days old)\n",
      "DEBUG:Cloud:Deleting 1918.log (53.9197531558 days old)\n",
      "DEBUG:Cloud:Deleting 1924.lock (52.9367901928 days old)\n",
      "DEBUG:Cloud:Deleting 1924.log (52.9367901928 days old)\n",
      "DEBUG:Cloud:Deleting 1963.lock (53.9190934336 days old)\n",
      "DEBUG:Cloud:Deleting 1963.log (53.9190934336 days old)\n",
      "DEBUG:Cloud:Deleting 2037.lock (53.9115239891 days old)\n",
      "DEBUG:Cloud:Deleting 2037.log (53.9115239891 days old)\n",
      "DEBUG:Cloud:Deleting 2046.lock (53.8154938965 days old)\n",
      "DEBUG:Cloud:Deleting 2046.log (53.8154938965 days old)\n",
      "DEBUG:Cloud:Deleting 954.lock (54.1074036188 days old)\n",
      "DEBUG:Cloud:Deleting 954.log (54.1074036188 days old)\n"
     ]
    }
   ],
   "source": [
    "import magellan as mg\n"
   ]
  },
  {
   "cell_type": "code",
   "execution_count": null,
   "metadata": {
    "collapsed": true
   },
   "outputs": [],
   "source": [
    "A = mg.get"
   ]
  }
 ],
 "metadata": {
  "kernelspec": {
   "display_name": "Python 2",
   "language": "python",
   "name": "python2"
  },
  "language_info": {
   "codemirror_mode": {
    "name": "ipython",
    "version": 2
   },
   "file_extension": ".py",
   "mimetype": "text/x-python",
   "name": "python",
   "nbconvert_exporter": "python",
   "pygments_lexer": "ipython2",
   "version": "2.7.11"
  }
 },
 "nbformat": 4,
 "nbformat_minor": 0
}
