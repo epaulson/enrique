{
 "cells": [
  {
   "cell_type": "code",
   "execution_count": 1,
   "metadata": {
    "collapsed": true
   },
   "outputs": [],
   "source": [
    "%load_ext autotime"
   ]
  },
  {
   "cell_type": "code",
   "execution_count": 2,
   "metadata": {
    "collapsed": false
   },
   "outputs": [
    {
     "name": "stdout",
     "output_type": "stream",
     "text": [
      "time: 1.22 ms\n"
     ]
    }
   ],
   "source": [
    "import sys\n",
    "sys.path.append('/Users/pradap/Documents/Research/Python-Package/enrique/')"
   ]
  },
  {
   "cell_type": "code",
   "execution_count": 14,
   "metadata": {
    "collapsed": false
   },
   "outputs": [
    {
     "name": "stdout",
     "output_type": "stream",
     "text": [
      "time: 1.48 ms\n"
     ]
    }
   ],
   "source": [
    "import magellan as mg\n",
    "import pandas as pd\n",
    "import numpy as np"
   ]
  },
  {
   "cell_type": "code",
   "execution_count": 4,
   "metadata": {
    "collapsed": false
   },
   "outputs": [
    {
     "name": "stdout",
     "output_type": "stream",
     "text": [
      "time: 34.8 ms\n"
     ]
    }
   ],
   "source": [
    "dblp = mg.read_csv('DBLP.csv', key='id')\n",
    "acm = mg.read_csv('ACM.csv', key='id')\n",
    "dblp.set_index('id', inplace=True, drop=False)\n",
    "acm.set_index('id', inplace=True, drop=False)"
   ]
  },
  {
   "cell_type": "code",
   "execution_count": 6,
   "metadata": {
    "collapsed": false
   },
   "outputs": [
    {
     "name": "stdout",
     "output_type": "stream",
     "text": [
      "time: 2.9 ms\n"
     ]
    }
   ],
   "source": [
    "# perfect_mapping = mg.read_csv('DBLP-ACM_perfectMapping.csv')\n",
    "#sample_pf = mg.sample_table(perfect_mapping, 200)\n",
    "sample_pf = pd.read_csv('sample_perfect_mapping.csv')"
   ]
  },
  {
   "cell_type": "code",
   "execution_count": 10,
   "metadata": {
    "collapsed": false
   },
   "outputs": [
    {
     "name": "stdout",
     "output_type": "stream",
     "text": [
      "time: 4.68 ms\n"
     ]
    }
   ],
   "source": [
    "id_dblp = list(sample_pf['idDBLP'])\n",
    "id_acm = list(sample_pf['idACM'])\n",
    "g_dblp = dblp.ix[id_dblp]\n",
    "g_acm = acm.ix[id_acm]"
   ]
  },
  {
   "cell_type": "code",
   "execution_count": null,
   "metadata": {
    "collapsed": true
   },
   "outputs": [],
   "source": []
  },
  {
   "cell_type": "code",
   "execution_count": 30,
   "metadata": {
    "collapsed": false
   },
   "outputs": [
    {
     "name": "stdout",
     "output_type": "stream",
     "text": [
      "time: 3.43 ms\n"
     ]
    }
   ],
   "source": [
    "# remove some years from DBLP\n",
    "np.random.seed(0)\n",
    "n = 110\n",
    "indices = list(set(np.random.random_integers(0, len(g_dblp), n)))\n",
    "indices\n",
    "g_dblp.ix[indices, 'year'] = np.NaN\n"
   ]
  },
  {
   "cell_type": "code",
   "execution_count": null,
   "metadata": {
    "collapsed": true
   },
   "outputs": [],
   "source": [
    "# remove some venue from DBLP\n",
    "np.random.seed(1)\n",
    "n = 95\n",
    "n = 110\n",
    "indices = list(set(np.random.random_integers(0, len(g_dblp), n)))\n",
    "indices\n",
    "g_dblp.ix[indices, 'venue'] = np.NaN\n"
   ]
  }
 ],
 "metadata": {
  "kernelspec": {
   "display_name": "Python 2",
   "language": "python",
   "name": "python2"
  },
  "language_info": {
   "codemirror_mode": {
    "name": "ipython",
    "version": 2
   },
   "file_extension": ".py",
   "mimetype": "text/x-python",
   "name": "python",
   "nbconvert_exporter": "python",
   "pygments_lexer": "ipython2",
   "version": "2.7.10"
  }
 },
 "nbformat": 4,
 "nbformat_minor": 0
}
