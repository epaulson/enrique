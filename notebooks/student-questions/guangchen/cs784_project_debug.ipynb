{
 "cells": [
  {
   "cell_type": "code",
   "execution_count": 1,
   "metadata": {
    "collapsed": true
   },
   "outputs": [],
   "source": [
    "import sys\n",
    "sys.path.append('/Users/pradap/Documents/Research/Python-Package/enrique/')"
   ]
  },
  {
   "cell_type": "code",
   "execution_count": 5,
   "metadata": {
    "collapsed": true
   },
   "outputs": [],
   "source": [
    "%load_ext autotime"
   ]
  },
  {
   "cell_type": "code",
   "execution_count": 2,
   "metadata": {
    "collapsed": false
   },
   "outputs": [
    {
     "name": "stderr",
     "output_type": "stream",
     "text": [
      "DEBUG:Cloud:Log file (/Users/pradap/.picloud/cloud.log) opened\n"
     ]
    }
   ],
   "source": [
    "import magellan as mg"
   ]
  },
  {
   "cell_type": "code",
   "execution_count": 3,
   "metadata": {
    "collapsed": false
   },
   "outputs": [
    {
     "data": {
      "text/plain": [
       "True"
      ]
     },
     "execution_count": 3,
     "metadata": {},
     "output_type": "execute_result"
    }
   ],
   "source": [
    "mg.init_jvm()"
   ]
  },
  {
   "cell_type": "code",
   "execution_count": 4,
   "metadata": {
    "collapsed": true
   },
   "outputs": [],
   "source": [
    "path_A = 'imdbClean.csv'\n",
    "path_B = 'tmdClean.csv'\n",
    "\n",
    "# read table A; table A has 'ID as the key attribute\n",
    "A = mg.read_csv(path_A, key='ID')\n",
    "B = mg.read_csv(path_B, key='ID')"
   ]
  },
  {
   "cell_type": "code",
   "execution_count": 6,
   "metadata": {
    "collapsed": false
   },
   "outputs": [
    {
     "name": "stdout",
     "output_type": "stream",
     "text": [
      "time: 4.86 ms\n"
     ]
    }
   ],
   "source": [
    "# Read in I feature vector: director\n",
    "I = mg.read_csv('train_set_director.csv', ltable=A, rtable=B)"
   ]
  },
  {
   "cell_type": "code",
   "execution_count": 7,
   "metadata": {
    "collapsed": false
   },
   "outputs": [
    {
     "data": {
      "text/html": [
       "<div>\n",
       "<table border=\"1\" class=\"dataframe\">\n",
       "  <thead>\n",
       "    <tr style=\"text-align: right;\">\n",
       "      <th></th>\n",
       "      <th>_id</th>\n",
       "      <th>ltable.ID</th>\n",
       "      <th>rtable.ID</th>\n",
       "      <th>director_director_jac_qgm_3_qgm_3</th>\n",
       "      <th>director_director_cos_dlm_dc0_dlm_dc0</th>\n",
       "      <th>director_director_jac_dlm_dc0_dlm_dc0</th>\n",
       "      <th>director_director_mel</th>\n",
       "      <th>director_director_lev</th>\n",
       "      <th>director_director_nmw</th>\n",
       "      <th>director_director_sw</th>\n",
       "      <th>director_director_swg</th>\n",
       "      <th>gold_label</th>\n",
       "    </tr>\n",
       "  </thead>\n",
       "  <tbody>\n",
       "    <tr>\n",
       "      <th>0</th>\n",
       "      <td>94</td>\n",
       "      <td>488</td>\n",
       "      <td>1108</td>\n",
       "      <td>0.900000</td>\n",
       "      <td>1.0</td>\n",
       "      <td>1.000000</td>\n",
       "      <td>1.000000</td>\n",
       "      <td>0.916667</td>\n",
       "      <td>1.000000</td>\n",
       "      <td>1.000000</td>\n",
       "      <td>1.000000</td>\n",
       "      <td>1</td>\n",
       "    </tr>\n",
       "    <tr>\n",
       "      <th>1</th>\n",
       "      <td>350</td>\n",
       "      <td>2594</td>\n",
       "      <td>2403</td>\n",
       "      <td>0.150000</td>\n",
       "      <td>0.5</td>\n",
       "      <td>0.333333</td>\n",
       "      <td>0.416667</td>\n",
       "      <td>0.357143</td>\n",
       "      <td>0.642857</td>\n",
       "      <td>0.416667</td>\n",
       "      <td>0.416667</td>\n",
       "      <td>0</td>\n",
       "    </tr>\n",
       "    <tr>\n",
       "      <th>2</th>\n",
       "      <td>42</td>\n",
       "      <td>223</td>\n",
       "      <td>316</td>\n",
       "      <td>0.909091</td>\n",
       "      <td>1.0</td>\n",
       "      <td>1.000000</td>\n",
       "      <td>1.000000</td>\n",
       "      <td>0.923077</td>\n",
       "      <td>1.000000</td>\n",
       "      <td>1.000000</td>\n",
       "      <td>1.000000</td>\n",
       "      <td>1</td>\n",
       "    </tr>\n",
       "    <tr>\n",
       "      <th>3</th>\n",
       "      <td>387</td>\n",
       "      <td>2940</td>\n",
       "      <td>2108</td>\n",
       "      <td>0.941176</td>\n",
       "      <td>1.0</td>\n",
       "      <td>1.000000</td>\n",
       "      <td>1.000000</td>\n",
       "      <td>0.947368</td>\n",
       "      <td>1.000000</td>\n",
       "      <td>1.000000</td>\n",
       "      <td>1.000000</td>\n",
       "      <td>1</td>\n",
       "    </tr>\n",
       "    <tr>\n",
       "      <th>4</th>\n",
       "      <td>91</td>\n",
       "      <td>479</td>\n",
       "      <td>510</td>\n",
       "      <td>0.916667</td>\n",
       "      <td>1.0</td>\n",
       "      <td>1.000000</td>\n",
       "      <td>1.000000</td>\n",
       "      <td>0.928571</td>\n",
       "      <td>1.000000</td>\n",
       "      <td>1.000000</td>\n",
       "      <td>1.000000</td>\n",
       "      <td>0</td>\n",
       "    </tr>\n",
       "  </tbody>\n",
       "</table>\n",
       "</div>"
      ],
      "text/plain": [
       "   _id  ltable.ID  rtable.ID  director_director_jac_qgm_3_qgm_3  \\\n",
       "0   94        488       1108                           0.900000   \n",
       "1  350       2594       2403                           0.150000   \n",
       "2   42        223        316                           0.909091   \n",
       "3  387       2940       2108                           0.941176   \n",
       "4   91        479        510                           0.916667   \n",
       "\n",
       "   director_director_cos_dlm_dc0_dlm_dc0  \\\n",
       "0                                    1.0   \n",
       "1                                    0.5   \n",
       "2                                    1.0   \n",
       "3                                    1.0   \n",
       "4                                    1.0   \n",
       "\n",
       "   director_director_jac_dlm_dc0_dlm_dc0  director_director_mel  \\\n",
       "0                               1.000000               1.000000   \n",
       "1                               0.333333               0.416667   \n",
       "2                               1.000000               1.000000   \n",
       "3                               1.000000               1.000000   \n",
       "4                               1.000000               1.000000   \n",
       "\n",
       "   director_director_lev  director_director_nmw  director_director_sw  \\\n",
       "0               0.916667               1.000000              1.000000   \n",
       "1               0.357143               0.642857              0.416667   \n",
       "2               0.923077               1.000000              1.000000   \n",
       "3               0.947368               1.000000              1.000000   \n",
       "4               0.928571               1.000000              1.000000   \n",
       "\n",
       "   director_director_swg  gold_label  \n",
       "0               1.000000           1  \n",
       "1               0.416667           0  \n",
       "2               1.000000           1  \n",
       "3               1.000000           1  \n",
       "4               1.000000           0  "
      ]
     },
     "execution_count": 7,
     "metadata": {},
     "output_type": "execute_result"
    },
    {
     "name": "stdout",
     "output_type": "stream",
     "text": [
      "time: 23.4 ms\n"
     ]
    }
   ],
   "source": [
    "I.head()"
   ]
  },
  {
   "cell_type": "code",
   "execution_count": 8,
   "metadata": {
    "collapsed": false
   },
   "outputs": [
    {
     "name": "stdout",
     "output_type": "stream",
     "text": [
      "time: 1.26 ms\n"
     ]
    }
   ],
   "source": [
    "# debug lg\n",
    "lg = mg.LogRegMatcher()"
   ]
  },
  {
   "cell_type": "code",
   "execution_count": 9,
   "metadata": {
    "collapsed": false
   },
   "outputs": [
    {
     "name": "stdout",
     "output_type": "stream",
     "text": [
      "time: 7.64 ms\n"
     ]
    }
   ],
   "source": [
    "# spliting data into U and V\n",
    "dic = mg.train_test_split(I, train_proportion=0.7)\n",
    "U = dic['train']\n",
    "V = dic['test']"
   ]
  },
  {
   "cell_type": "code",
   "execution_count": 10,
   "metadata": {
    "collapsed": false
   },
   "outputs": [
    {
     "name": "stdout",
     "output_type": "stream",
     "text": [
      "time: 10.5 ms\n"
     ]
    }
   ],
   "source": [
    "# train lg using U\n",
    "lg.fit(table = U, exclude_attrs = ['_id', 'ltable.ID', 'rtable.ID', 'gold_label'],\n",
    "                             target_attr = 'gold_label')"
   ]
  },
  {
   "cell_type": "code",
   "execution_count": 11,
   "metadata": {
    "collapsed": false
   },
   "outputs": [
    {
     "name": "stdout",
     "output_type": "stream",
     "text": [
      "time: 10.5 ms\n"
     ]
    }
   ],
   "source": [
    "# predict on V\n",
    "P5 = lg.predict(table = V, exclude_attrs = ['_id', 'ltable.ID', 'rtable.ID', 'gold_label'],\n",
    "                             target_attr = 'predicted_label', append = True, inplace= False)"
   ]
  },
  {
   "cell_type": "code",
   "execution_count": 13,
   "metadata": {
    "collapsed": false
   },
   "outputs": [
    {
     "data": {
      "text/html": [
       "<div>\n",
       "<table border=\"1\" class=\"dataframe\">\n",
       "  <thead>\n",
       "    <tr style=\"text-align: right;\">\n",
       "      <th></th>\n",
       "      <th>_id</th>\n",
       "      <th>ltable.ID</th>\n",
       "      <th>rtable.ID</th>\n",
       "      <th>director_director_jac_qgm_3_qgm_3</th>\n",
       "      <th>director_director_cos_dlm_dc0_dlm_dc0</th>\n",
       "      <th>director_director_jac_dlm_dc0_dlm_dc0</th>\n",
       "      <th>director_director_mel</th>\n",
       "      <th>director_director_lev</th>\n",
       "      <th>director_director_nmw</th>\n",
       "      <th>director_director_sw</th>\n",
       "      <th>director_director_swg</th>\n",
       "      <th>gold_label</th>\n",
       "      <th>predicted_label</th>\n",
       "    </tr>\n",
       "  </thead>\n",
       "  <tbody>\n",
       "    <tr>\n",
       "      <th>0</th>\n",
       "      <td>330</td>\n",
       "      <td>2322</td>\n",
       "      <td>1852</td>\n",
       "      <td>0.075000</td>\n",
       "      <td>0.353553</td>\n",
       "      <td>0.20</td>\n",
       "      <td>0.371429</td>\n",
       "      <td>0.242424</td>\n",
       "      <td>0.546875</td>\n",
       "      <td>0.357143</td>\n",
       "      <td>0.400000</td>\n",
       "      <td>0</td>\n",
       "      <td>0</td>\n",
       "    </tr>\n",
       "    <tr>\n",
       "      <th>1</th>\n",
       "      <td>101</td>\n",
       "      <td>533</td>\n",
       "      <td>1531</td>\n",
       "      <td>0.160000</td>\n",
       "      <td>0.408248</td>\n",
       "      <td>0.25</td>\n",
       "      <td>0.461538</td>\n",
       "      <td>0.421053</td>\n",
       "      <td>0.578947</td>\n",
       "      <td>0.461538</td>\n",
       "      <td>0.492308</td>\n",
       "      <td>0</td>\n",
       "      <td>0</td>\n",
       "    </tr>\n",
       "    <tr>\n",
       "      <th>2</th>\n",
       "      <td>69</td>\n",
       "      <td>357</td>\n",
       "      <td>159</td>\n",
       "      <td>0.916667</td>\n",
       "      <td>1.000000</td>\n",
       "      <td>1.00</td>\n",
       "      <td>1.000000</td>\n",
       "      <td>0.928571</td>\n",
       "      <td>1.000000</td>\n",
       "      <td>1.000000</td>\n",
       "      <td>1.000000</td>\n",
       "      <td>1</td>\n",
       "      <td>1</td>\n",
       "    </tr>\n",
       "    <tr>\n",
       "      <th>3</th>\n",
       "      <td>307</td>\n",
       "      <td>2159</td>\n",
       "      <td>1544</td>\n",
       "      <td>0.888889</td>\n",
       "      <td>1.000000</td>\n",
       "      <td>1.00</td>\n",
       "      <td>1.000000</td>\n",
       "      <td>0.909091</td>\n",
       "      <td>1.000000</td>\n",
       "      <td>1.000000</td>\n",
       "      <td>1.000000</td>\n",
       "      <td>1</td>\n",
       "      <td>1</td>\n",
       "    </tr>\n",
       "    <tr>\n",
       "      <th>4</th>\n",
       "      <td>310</td>\n",
       "      <td>2171</td>\n",
       "      <td>1421</td>\n",
       "      <td>0.875000</td>\n",
       "      <td>1.000000</td>\n",
       "      <td>1.00</td>\n",
       "      <td>1.000000</td>\n",
       "      <td>0.900000</td>\n",
       "      <td>1.000000</td>\n",
       "      <td>1.000000</td>\n",
       "      <td>1.000000</td>\n",
       "      <td>1</td>\n",
       "      <td>1</td>\n",
       "    </tr>\n",
       "  </tbody>\n",
       "</table>\n",
       "</div>"
      ],
      "text/plain": [
       "   _id  ltable.ID  rtable.ID  director_director_jac_qgm_3_qgm_3  \\\n",
       "0  330       2322       1852                           0.075000   \n",
       "1  101        533       1531                           0.160000   \n",
       "2   69        357        159                           0.916667   \n",
       "3  307       2159       1544                           0.888889   \n",
       "4  310       2171       1421                           0.875000   \n",
       "\n",
       "   director_director_cos_dlm_dc0_dlm_dc0  \\\n",
       "0                               0.353553   \n",
       "1                               0.408248   \n",
       "2                               1.000000   \n",
       "3                               1.000000   \n",
       "4                               1.000000   \n",
       "\n",
       "   director_director_jac_dlm_dc0_dlm_dc0  director_director_mel  \\\n",
       "0                                   0.20               0.371429   \n",
       "1                                   0.25               0.461538   \n",
       "2                                   1.00               1.000000   \n",
       "3                                   1.00               1.000000   \n",
       "4                                   1.00               1.000000   \n",
       "\n",
       "   director_director_lev  director_director_nmw  director_director_sw  \\\n",
       "0               0.242424               0.546875              0.357143   \n",
       "1               0.421053               0.578947              0.461538   \n",
       "2               0.928571               1.000000              1.000000   \n",
       "3               0.909091               1.000000              1.000000   \n",
       "4               0.900000               1.000000              1.000000   \n",
       "\n",
       "   director_director_swg  gold_label  predicted_label  \n",
       "0               0.400000           0                0  \n",
       "1               0.492308           0                0  \n",
       "2               1.000000           1                1  \n",
       "3               1.000000           1                1  \n",
       "4               1.000000           1                1  "
      ]
     },
     "execution_count": 13,
     "metadata": {},
     "output_type": "execute_result"
    },
    {
     "name": "stdout",
     "output_type": "stream",
     "text": [
      "time: 22.7 ms\n"
     ]
    }
   ],
   "source": [
    "P5.head()"
   ]
  },
  {
   "cell_type": "code",
   "execution_count": 14,
   "metadata": {
    "collapsed": false
   },
   "outputs": [
    {
     "name": "stdout",
     "output_type": "stream",
     "text": [
      "time: 11.3 ms\n"
     ]
    }
   ],
   "source": [
    "# evaluation on predictions\n",
    "eval_summary5 = mg.eval_matches(P5, 'gold_label', 'predicted_label')"
   ]
  },
  {
   "cell_type": "code",
   "execution_count": 15,
   "metadata": {
    "collapsed": false
   },
   "outputs": [
    {
     "name": "stdout",
     "output_type": "stream",
     "text": [
      "Precision : 93.55% (58/62)\n",
      "Recall : 98.31% (58/59)\n",
      "F1 : 95.87%\n",
      "False positives : 4 (out of 62 positive predictions)\n",
      "False negatives : 1 (out of 22 negative predictions)\n",
      "time: 1.06 ms\n"
     ]
    }
   ],
   "source": [
    "mg.print_eval_summary(eval_summary5)"
   ]
  },
  {
   "cell_type": "code",
   "execution_count": 16,
   "metadata": {
    "collapsed": false
   },
   "outputs": [
    {
     "name": "stdout",
     "output_type": "stream",
     "text": [
      "prec_numerator: 58.0\n",
      "prec_denominator: 62.0\n",
      "precision: 0.935483870968\n",
      "recall_numerator: 58.0\n",
      "recall_denominator: 59.0\n",
      "recall: 0.983050847458\n",
      "f1: 0.95867768595\n",
      "pred_pos_num: 62.0\n",
      "false_pos_num: 4.0\n",
      "false_pos_ls: [(106.0, 224.0), (305.0, 958.0), (106.0, 117.0), (479.0, 510.0)]\n",
      "pred_neg_num: 22.0\n",
      "false_neg_num: 1.0\n",
      "false_neg_ls: [(171.0, 63.0)]\n",
      "time: 1.37 ms\n"
     ]
    }
   ],
   "source": [
    "for p in eval_summary5:\n",
    "    print p + ': ' + str(eval_summary5[p])"
   ]
  },
  {
   "cell_type": "code",
   "execution_count": 13,
   "metadata": {
    "collapsed": false
   },
   "outputs": [
    {
     "data": {
      "text/plain": [
       "True"
      ]
     },
     "execution_count": 13,
     "metadata": {},
     "output_type": "execute_result"
    }
   ],
   "source": [
    "# write vector table U and V out\n",
    "U.to_csv('vector_table_U.csv')\n",
    "V.to_csv('vector_table_V.csv')"
   ]
  },
  {
   "cell_type": "code",
   "execution_count": 22,
   "metadata": {
    "collapsed": false
   },
   "outputs": [
    {
     "data": {
      "text/html": [
       "<div>\n",
       "<table border=\"1\" class=\"dataframe\">\n",
       "  <thead>\n",
       "    <tr style=\"text-align: right;\">\n",
       "      <th></th>\n",
       "      <th>ID</th>\n",
       "      <th>title</th>\n",
       "      <th>year</th>\n",
       "      <th>director</th>\n",
       "      <th>writer</th>\n",
       "      <th>actor</th>\n",
       "    </tr>\n",
       "  </thead>\n",
       "  <tbody>\n",
       "    <tr>\n",
       "      <th>2300</th>\n",
       "      <td>2322</td>\n",
       "      <td>A Night at the Roxbury</td>\n",
       "      <td>1998</td>\n",
       "      <td>John Fortenberry; Amy Heckerling</td>\n",
       "      <td>Steve Koren; Will Ferrell</td>\n",
       "      <td>Chris Kattan; Will Ferrell; Raquel Gardner</td>\n",
       "    </tr>\n",
       "  </tbody>\n",
       "</table>\n",
       "</div>"
      ],
      "text/plain": [
       "        ID                    title   year                           director  \\\n",
       "2300  2322   A Night at the Roxbury   1998   John Fortenberry; Amy Heckerling   \n",
       "\n",
       "                          writer                                        actor  \n",
       "2300   Steve Koren; Will Ferrell   Chris Kattan; Will Ferrell; Raquel Gardner  "
      ]
     },
     "execution_count": 22,
     "metadata": {},
     "output_type": "execute_result"
    },
    {
     "name": "stdout",
     "output_type": "stream",
     "text": [
      "time: 10 ms\n"
     ]
    }
   ],
   "source": [
    "A[A.ID==2322]"
   ]
  },
  {
   "cell_type": "code",
   "execution_count": 17,
   "metadata": {
    "collapsed": false
   },
   "outputs": [
    {
     "data": {
      "text/html": [
       "<div>\n",
       "<table border=\"1\" class=\"dataframe\">\n",
       "  <thead>\n",
       "    <tr style=\"text-align: right;\">\n",
       "      <th></th>\n",
       "      <th>_id</th>\n",
       "      <th>ltable.ID</th>\n",
       "      <th>rtable.ID</th>\n",
       "      <th>director_director_jac_qgm_3_qgm_3</th>\n",
       "      <th>director_director_cos_dlm_dc0_dlm_dc0</th>\n",
       "      <th>director_director_jac_dlm_dc0_dlm_dc0</th>\n",
       "      <th>director_director_mel</th>\n",
       "      <th>director_director_lev</th>\n",
       "      <th>director_director_nmw</th>\n",
       "      <th>director_director_sw</th>\n",
       "      <th>director_director_swg</th>\n",
       "      <th>gold_label</th>\n",
       "      <th>predicted_label</th>\n",
       "    </tr>\n",
       "  </thead>\n",
       "  <tbody>\n",
       "    <tr>\n",
       "      <th>0</th>\n",
       "      <td>330</td>\n",
       "      <td>2322</td>\n",
       "      <td>1852</td>\n",
       "      <td>0.075000</td>\n",
       "      <td>0.353553</td>\n",
       "      <td>0.20</td>\n",
       "      <td>0.371429</td>\n",
       "      <td>0.242424</td>\n",
       "      <td>0.546875</td>\n",
       "      <td>0.357143</td>\n",
       "      <td>0.400000</td>\n",
       "      <td>0</td>\n",
       "      <td>0</td>\n",
       "    </tr>\n",
       "    <tr>\n",
       "      <th>1</th>\n",
       "      <td>101</td>\n",
       "      <td>533</td>\n",
       "      <td>1531</td>\n",
       "      <td>0.160000</td>\n",
       "      <td>0.408248</td>\n",
       "      <td>0.25</td>\n",
       "      <td>0.461538</td>\n",
       "      <td>0.421053</td>\n",
       "      <td>0.578947</td>\n",
       "      <td>0.461538</td>\n",
       "      <td>0.492308</td>\n",
       "      <td>0</td>\n",
       "      <td>0</td>\n",
       "    </tr>\n",
       "    <tr>\n",
       "      <th>2</th>\n",
       "      <td>69</td>\n",
       "      <td>357</td>\n",
       "      <td>159</td>\n",
       "      <td>0.916667</td>\n",
       "      <td>1.000000</td>\n",
       "      <td>1.00</td>\n",
       "      <td>1.000000</td>\n",
       "      <td>0.928571</td>\n",
       "      <td>1.000000</td>\n",
       "      <td>1.000000</td>\n",
       "      <td>1.000000</td>\n",
       "      <td>1</td>\n",
       "      <td>1</td>\n",
       "    </tr>\n",
       "    <tr>\n",
       "      <th>3</th>\n",
       "      <td>307</td>\n",
       "      <td>2159</td>\n",
       "      <td>1544</td>\n",
       "      <td>0.888889</td>\n",
       "      <td>1.000000</td>\n",
       "      <td>1.00</td>\n",
       "      <td>1.000000</td>\n",
       "      <td>0.909091</td>\n",
       "      <td>1.000000</td>\n",
       "      <td>1.000000</td>\n",
       "      <td>1.000000</td>\n",
       "      <td>1</td>\n",
       "      <td>1</td>\n",
       "    </tr>\n",
       "    <tr>\n",
       "      <th>4</th>\n",
       "      <td>310</td>\n",
       "      <td>2171</td>\n",
       "      <td>1421</td>\n",
       "      <td>0.875000</td>\n",
       "      <td>1.000000</td>\n",
       "      <td>1.00</td>\n",
       "      <td>1.000000</td>\n",
       "      <td>0.900000</td>\n",
       "      <td>1.000000</td>\n",
       "      <td>1.000000</td>\n",
       "      <td>1.000000</td>\n",
       "      <td>1</td>\n",
       "      <td>1</td>\n",
       "    </tr>\n",
       "  </tbody>\n",
       "</table>\n",
       "</div>"
      ],
      "text/plain": [
       "   _id  ltable.ID  rtable.ID  director_director_jac_qgm_3_qgm_3  \\\n",
       "0  330       2322       1852                           0.075000   \n",
       "1  101        533       1531                           0.160000   \n",
       "2   69        357        159                           0.916667   \n",
       "3  307       2159       1544                           0.888889   \n",
       "4  310       2171       1421                           0.875000   \n",
       "\n",
       "   director_director_cos_dlm_dc0_dlm_dc0  \\\n",
       "0                               0.353553   \n",
       "1                               0.408248   \n",
       "2                               1.000000   \n",
       "3                               1.000000   \n",
       "4                               1.000000   \n",
       "\n",
       "   director_director_jac_dlm_dc0_dlm_dc0  director_director_mel  \\\n",
       "0                                   0.20               0.371429   \n",
       "1                                   0.25               0.461538   \n",
       "2                                   1.00               1.000000   \n",
       "3                                   1.00               1.000000   \n",
       "4                                   1.00               1.000000   \n",
       "\n",
       "   director_director_lev  director_director_nmw  director_director_sw  \\\n",
       "0               0.242424               0.546875              0.357143   \n",
       "1               0.421053               0.578947              0.461538   \n",
       "2               0.928571               1.000000              1.000000   \n",
       "3               0.909091               1.000000              1.000000   \n",
       "4               0.900000               1.000000              1.000000   \n",
       "\n",
       "   director_director_swg  gold_label  predicted_label  \n",
       "0               0.400000           0                0  \n",
       "1               0.492308           0                0  \n",
       "2               1.000000           1                1  \n",
       "3               1.000000           1                1  \n",
       "4               1.000000           1                1  "
      ]
     },
     "execution_count": 17,
     "metadata": {},
     "output_type": "execute_result"
    },
    {
     "name": "stdout",
     "output_type": "stream",
     "text": [
      "time: 16.9 ms\n"
     ]
    }
   ],
   "source": [
    "P5.head()"
   ]
  },
  {
   "cell_type": "code",
   "execution_count": 18,
   "metadata": {
    "collapsed": false
   },
   "outputs": [
    {
     "name": "stderr",
     "output_type": "stream",
     "text": [
      "WARNING:magellan.feature.autofeaturegen:Magellan types: year type (str_bt_1w_5w) and year type (numeric) are different.If you want to set them to be same and generate features, update output from get_attr_types and use get_features command.\n",
      "\n"
     ]
    },
    {
     "name": "stdout",
     "output_type": "stream",
     "text": [
      "time: 83.8 ms\n"
     ]
    }
   ],
   "source": [
    "feat_table = mg.get_features_for_matching(A, B)"
   ]
  },
  {
   "cell_type": "code",
   "execution_count": 19,
   "metadata": {
    "collapsed": false
   },
   "outputs": [
    {
     "data": {
      "text/html": [
       "<div>\n",
       "<table border=\"1\" class=\"dataframe\">\n",
       "  <thead>\n",
       "    <tr style=\"text-align: right;\">\n",
       "      <th></th>\n",
       "      <th>feature_name</th>\n",
       "      <th>left_attribute</th>\n",
       "      <th>right_attribute</th>\n",
       "      <th>left_attr_tokenizer</th>\n",
       "      <th>right_attr_tokenizer</th>\n",
       "      <th>simfunction</th>\n",
       "      <th>function</th>\n",
       "      <th>function_source</th>\n",
       "    </tr>\n",
       "  </thead>\n",
       "  <tbody>\n",
       "    <tr>\n",
       "      <th>0</th>\n",
       "      <td>ID_ID_exm</td>\n",
       "      <td>ID</td>\n",
       "      <td>ID</td>\n",
       "      <td>None</td>\n",
       "      <td>None</td>\n",
       "      <td>exact_match</td>\n",
       "      <td>&lt;function ID_ID_exm at 0x1202a68c0&gt;</td>\n",
       "      <td>from magellan.feature.simfunctions import *\\nf...</td>\n",
       "    </tr>\n",
       "    <tr>\n",
       "      <th>1</th>\n",
       "      <td>ID_ID_anm</td>\n",
       "      <td>ID</td>\n",
       "      <td>ID</td>\n",
       "      <td>None</td>\n",
       "      <td>None</td>\n",
       "      <td>abs_norm</td>\n",
       "      <td>&lt;function ID_ID_anm at 0x1202a6758&gt;</td>\n",
       "      <td>from magellan.feature.simfunctions import *\\nf...</td>\n",
       "    </tr>\n",
       "    <tr>\n",
       "      <th>2</th>\n",
       "      <td>ID_ID_lev</td>\n",
       "      <td>ID</td>\n",
       "      <td>ID</td>\n",
       "      <td>None</td>\n",
       "      <td>None</td>\n",
       "      <td>lev</td>\n",
       "      <td>&lt;function ID_ID_lev at 0x1202a6230&gt;</td>\n",
       "      <td>from magellan.feature.simfunctions import *\\nf...</td>\n",
       "    </tr>\n",
       "    <tr>\n",
       "      <th>3</th>\n",
       "      <td>title_title_jac_qgm_3_qgm_3</td>\n",
       "      <td>title</td>\n",
       "      <td>title</td>\n",
       "      <td>qgm_3</td>\n",
       "      <td>qgm_3</td>\n",
       "      <td>jaccard</td>\n",
       "      <td>&lt;function title_title_jac_qgm_3_qgm_3 at 0x120...</td>\n",
       "      <td>from magellan.feature.simfunctions import *\\nf...</td>\n",
       "    </tr>\n",
       "    <tr>\n",
       "      <th>4</th>\n",
       "      <td>title_title_cos_dlm_dc0_dlm_dc0</td>\n",
       "      <td>title</td>\n",
       "      <td>title</td>\n",
       "      <td>dlm_dc0</td>\n",
       "      <td>dlm_dc0</td>\n",
       "      <td>cosine</td>\n",
       "      <td>&lt;function title_title_cos_dlm_dc0_dlm_dc0 at 0...</td>\n",
       "      <td>from magellan.feature.simfunctions import *\\nf...</td>\n",
       "    </tr>\n",
       "  </tbody>\n",
       "</table>\n",
       "</div>"
      ],
      "text/plain": [
       "                      feature_name left_attribute right_attribute  \\\n",
       "0                        ID_ID_exm             ID              ID   \n",
       "1                        ID_ID_anm             ID              ID   \n",
       "2                        ID_ID_lev             ID              ID   \n",
       "3      title_title_jac_qgm_3_qgm_3          title           title   \n",
       "4  title_title_cos_dlm_dc0_dlm_dc0          title           title   \n",
       "\n",
       "  left_attr_tokenizer right_attr_tokenizer  simfunction  \\\n",
       "0                None                 None  exact_match   \n",
       "1                None                 None     abs_norm   \n",
       "2                None                 None          lev   \n",
       "3               qgm_3                qgm_3      jaccard   \n",
       "4             dlm_dc0              dlm_dc0       cosine   \n",
       "\n",
       "                                            function  \\\n",
       "0                <function ID_ID_exm at 0x1202a68c0>   \n",
       "1                <function ID_ID_anm at 0x1202a6758>   \n",
       "2                <function ID_ID_lev at 0x1202a6230>   \n",
       "3  <function title_title_jac_qgm_3_qgm_3 at 0x120...   \n",
       "4  <function title_title_cos_dlm_dc0_dlm_dc0 at 0...   \n",
       "\n",
       "                                     function_source  \n",
       "0  from magellan.feature.simfunctions import *\\nf...  \n",
       "1  from magellan.feature.simfunctions import *\\nf...  \n",
       "2  from magellan.feature.simfunctions import *\\nf...  \n",
       "3  from magellan.feature.simfunctions import *\\nf...  \n",
       "4  from magellan.feature.simfunctions import *\\nf...  "
      ]
     },
     "execution_count": 19,
     "metadata": {},
     "output_type": "execute_result"
    },
    {
     "name": "stdout",
     "output_type": "stream",
     "text": [
      "time: 14.2 ms\n"
     ]
    }
   ],
   "source": [
    "feat_table.head()"
   ]
  },
  {
   "cell_type": "code",
   "execution_count": 23,
   "metadata": {
    "collapsed": false
   },
   "outputs": [
    {
     "data": {
      "text/plain": [
       "True"
      ]
     },
     "execution_count": 23,
     "metadata": {},
     "output_type": "execute_result"
    },
    {
     "name": "stdout",
     "output_type": "stream",
     "text": [
      "time: 3.21 ms\n"
     ]
    }
   ],
   "source": [
    "# Add trigger - target false positives: use title related feature\n",
    "neg_trigger = mg.MatchTrigger()\n",
    "neg_trigger.add_cond_rule('title_title_jac_qgm_3_qgm_3(ltuple, rtuple) < 0.4', feat_table)\n",
    "neg_trigger.add_cond_status(True)\n",
    "neg_trigger.add_action(0)"
   ]
  },
  {
   "cell_type": "code",
   "execution_count": 27,
   "metadata": {
    "collapsed": false
   },
   "outputs": [
    {
     "data": {
      "text/plain": [
       "'def _rule_0(ltuple, rtuple):\\n    return title_title_jac_qgm_3_qgm_3(ltuple, rtuple) < 0.4'"
      ]
     },
     "execution_count": 27,
     "metadata": {},
     "output_type": "execute_result"
    },
    {
     "name": "stdout",
     "output_type": "stream",
     "text": [
      "time: 2.02 ms\n"
     ]
    }
   ],
   "source": [
    "neg_trigger.rule_source['_rule_0']"
   ]
  },
  {
   "cell_type": "code",
   "execution_count": 31,
   "metadata": {
    "collapsed": false
   },
   "outputs": [
    {
     "name": "stdout",
     "output_type": "stream",
     "text": [
      "time: 2.12 ms\n"
     ]
    }
   ],
   "source": [
    "# Pradap\n",
    "P5['ltable.ID'] = P5['ltable.ID'].astype('int')\n",
    "P5['rtable.ID'] = P5['rtable.ID'].astype('int')\n"
   ]
  },
  {
   "cell_type": "code",
   "execution_count": 32,
   "metadata": {
    "collapsed": false
   },
   "outputs": [
    {
     "name": "stdout",
     "output_type": "stream",
     "text": [
      "time: 67.3 ms\n"
     ]
    }
   ],
   "source": [
    "# Apply trigger and then evaluate\n",
    "# Apply trigger\n",
    "Q = neg_trigger.execute(P5, 'predicted_label', inplace=False)"
   ]
  },
  {
   "cell_type": "code",
   "execution_count": 20,
   "metadata": {
    "collapsed": false
   },
   "outputs": [
    {
     "name": "stdout",
     "output_type": "stream",
     "text": [
      "Help on MatchTrigger in module magellan.trigger.matchtrigger object:\n",
      "\n",
      "class MatchTrigger(__builtin__.object)\n",
      " |  Class to patch output from Matchers.\n",
      " |  Note:\n",
      " |  This class is similar to BooleanRuleMatcher except that this class switches predictions.\n",
      " |  \n",
      " |  Methods defined here:\n",
      " |  \n",
      " |  __init__(self)\n",
      " |  \n",
      " |  add_action(self, value)\n",
      " |      Add action if the condition evaluates to condition status (see add_cond_rule, add_cond_status)\n",
      " |      \n",
      " |      Parameters\n",
      " |      ----------\n",
      " |      value : int (0/1). Value to be set if the condition evaluates to condition status\n",
      " |      \n",
      " |      Returns\n",
      " |      -------\n",
      " |      status : boolean, returns True if the command was executed successfully.\n",
      " |  \n",
      " |  add_cond_rule(self, conjunct_list, feature_table)\n",
      " |      Add rule to match trigger\n",
      " |      \n",
      " |      Parameters\n",
      " |      ----------\n",
      " |      conjunct_list : List of strings.\n",
      " |       List of predicates as in ['title_title_lev(ltuple, rtuple) > 0.8', 'name_name_mel(ltuple, rtuple)' > 0.6]\n",
      " |      \n",
      " |      feature_table : Pandas dataframe.\n",
      " |        Feature table containing information about features.\n",
      " |        see also:  get_features_for_blocking, get_features_from_matching, get_features\n",
      " |      \n",
      " |      Returns\n",
      " |      -------\n",
      " |      status : boolean, return True if the command was executed successfully.\n",
      " |  \n",
      " |  add_cond_status(self, status)\n",
      " |      Add boolean status that the condition is expected to satisfy\n",
      " |      \n",
      " |      Parameters\n",
      " |      ----------\n",
      " |      status : boolean, status that the user wants the condition to satisfy\n",
      " |      \n",
      " |      Returns\n",
      " |      -------\n",
      " |      ret_status : boolean, returns True if the command was executed successfully.\n",
      " |  \n",
      " |  apply_rules(self, ltuple, rtuple)\n",
      " |  \n",
      " |  create_rule(self, conjunct_list, feature_table, name=None)\n",
      " |  \n",
      " |  del_rule(self, rule_name)\n",
      " |  \n",
      " |  execute(self, input_table, label_column, inplace=True)\n",
      " |      Execute trigger\n",
      " |      \n",
      " |      Parameters\n",
      " |      ----------\n",
      " |      input_table : MTable, on which trigger must be applied\n",
      " |      label_column : String, label attribute name\n",
      " |      inplace : boolean, whether the updation should be done inplace. Default value is set to True.\n",
      " |  \n",
      " |  get_function_str(self, name, conjunct_list)\n",
      " |  \n",
      " |  get_rule(self, rule_name)\n",
      " |  \n",
      " |  get_rule_names(self)\n",
      " |  \n",
      " |  view_rule(self, rule_name)\n",
      " |  \n",
      " |  ----------------------------------------------------------------------\n",
      " |  Data descriptors defined here:\n",
      " |  \n",
      " |  __dict__\n",
      " |      dictionary for instance variables (if defined)\n",
      " |  \n",
      " |  __weakref__\n",
      " |      list of weak references to the object (if defined)\n",
      "\n"
     ]
    }
   ],
   "source": [
    "help(mg.MatchTrigger())"
   ]
  },
  {
   "cell_type": "code",
   "execution_count": null,
   "metadata": {
    "collapsed": true
   },
   "outputs": [],
   "source": []
  }
 ],
 "metadata": {
  "kernelspec": {
   "display_name": "Python 2",
   "language": "python",
   "name": "python2"
  },
  "language_info": {
   "codemirror_mode": {
    "name": "ipython",
    "version": 2
   },
   "file_extension": ".py",
   "mimetype": "text/x-python",
   "name": "python",
   "nbconvert_exporter": "python",
   "pygments_lexer": "ipython2",
   "version": "2.7.10"
  }
 },
 "nbformat": 4,
 "nbformat_minor": 0
}
